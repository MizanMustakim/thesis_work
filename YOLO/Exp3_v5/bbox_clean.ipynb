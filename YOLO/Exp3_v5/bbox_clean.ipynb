{
 "cells": [
  {
   "cell_type": "code",
   "execution_count": 2,
   "metadata": {},
   "outputs": [],
   "source": [
    "import cv2\n",
    "import matplotlib.pyplot as plt\n",
    "import numpy as np\n",
    "import os\n",
    "from xml.etree import ElementTree as ET\n",
    "import random\n",
    "import shutil\n",
    "from collections import Counter"
   ]
  },
  {
   "attachments": {},
   "cell_type": "markdown",
   "metadata": {},
   "source": [
    "Annotated Text file clean"
   ]
  },
  {
   "cell_type": "code",
   "execution_count": 8,
   "metadata": {},
   "outputs": [],
   "source": [
    "def is_file_not_empty(file_path):\n",
    "    return os.path.isfile(file_path) and os.path.getsize(file_path) > 0\n",
    "\n",
    "def clean_txt_yolo(txt_path, img_path):\n",
    "    for files in os.listdir(txt_path):\n",
    "        with open(txt_path + '/' + files, 'r') as f:\n",
    "            filtered_lines = filter(lambda line: \"None\" not in line, f)\n",
    "            filtered_lines = list(filtered_lines)\n",
    "\n",
    "        with open(txt_path + '/' + files, 'w') as f:\n",
    "            f.writelines(filtered_lines)\n",
    "\n",
    "        if is_file_not_empty(txt_path + '/' + files):\n",
    "            pass\n",
    "        else:\n",
    "            img_file = img_path + '/' + files.split('.')[0] + '.jpg'\n",
    "            txt_file = txt_path + '/' + files\n",
    "            os.remove(img_file)\n",
    "            os.remove(txt_file)\n",
    "            print('{} is empty'.format(files))\n",
    "\n",
    "train_clean = clean_txt_yolo(txt_path='merged_data/validation/labels', \n",
    "                            img_path ='merged_data/validation/images')"
   ]
  },
  {
   "attachments": {},
   "cell_type": "markdown",
   "metadata": {},
   "source": [
    "### Image resizing"
   ]
  },
  {
   "cell_type": "code",
   "execution_count": 10,
   "metadata": {},
   "outputs": [],
   "source": [
    "def img_resize(source, dest):\n",
    "    img = cv2.imread(source)\n",
    "\n",
    "    if img.shape[:-1] >= (640,640):\n",
    "        dim = (640, 640)\n",
    "        resized = cv2.resize(img, dim)\n",
    "        cv2.imwrite(dest, resized)\n",
    "    else:\n",
    "        cv2.imwrite(dest, img)\n",
    "\n",
    "source_path = 'data/train/images'\n",
    "dest_path = 'data/train/resized_img'\n",
    "\n",
    "for files in os.listdir(source_path):\n",
    "    img_path = source_path + '/' + files\n",
    "    img_resize(img_path, dest_path+'/'+files)"
   ]
  },
  {
   "attachments": {},
   "cell_type": "markdown",
   "metadata": {},
   "source": [
    "Checking the image shape."
   ]
  },
  {
   "cell_type": "code",
   "execution_count": 7,
   "metadata": {},
   "outputs": [
    {
     "name": "stdout",
     "output_type": "stream",
     "text": [
      "(600, 600) shape of image: 4568\n",
      "(540, 540) shape of image: 111\n"
     ]
    }
   ],
   "source": [
    "img_shape = []\n",
    "for files in os.listdir(dest_path):\n",
    "    img = cv2.imread(dest_path+'/'+files)\n",
    "    if img.shape[:-1] == (640,640):\n",
    "        pass\n",
    "    else:\n",
    "        img_shape.append(img.shape[:-1])\n",
    "\n",
    "for value, count in Counter(img_shape).items():\n",
    "    print('{} shape of image: {}'.format(value, count))\n",
    "\n",
    "# print('No different shape images found!')"
   ]
  },
  {
   "attachments": {},
   "cell_type": "markdown",
   "metadata": {},
   "source": [
    "### Label Config"
   ]
  },
  {
   "attachments": {},
   "cell_type": "markdown",
   "metadata": {},
   "source": [
    "Label config"
   ]
  },
  {
   "cell_type": "code",
   "execution_count": 11,
   "metadata": {},
   "outputs": [
    {
     "name": "stdout",
     "output_type": "stream",
     "text": [
      "10103\n"
     ]
    }
   ],
   "source": [
    "def label_config(annotation_file, old_img_source, dest_path):\n",
    "    with open(annotation_file, 'r') as f:\n",
    "        annotations = f.readlines()\n",
    "        for annotation in annotations:\n",
    "            x,y,w,h = annotation.strip().split(\" \")[1:]\n",
    "\n",
    "            old_img_path = old_img_source + '/' + annotation_file.split('/')[-1].split('.')[0] + '.jpg'\n",
    "            old_img = cv2.imread(old_img_path)\n",
    "            if old_img.shape[:-1] >= (640,640):\n",
    "                new_x = (eval(x) * 640) / old_img.shape[1] # new_x = (old_x * new_width) / old_width\n",
    "                new_y = (eval(y) * 640) / old_img.shape[0] # new_y = (old_y * new_height) / old_height\n",
    "                new_w = (eval(w) * 640) / old_img.shape[1] # new_w = (old_w * new_width) / old_width\n",
    "                new_h = (eval(h) * 640) / old_img.shape[0] # new_h = (old_h * new_height) / old_height\n",
    "                \n",
    "                with open(dest_path+'/'+annotation_file.split('/')[-1], 'a') as f:\n",
    "                    f.write('{} {:.3f} {:.3f} {:.3f} {:.3f}\\n'.format(annotation[0], new_x, new_y, new_w, new_h))\n",
    "            else:\n",
    "                with open(dest_path+'/'+annotation_file.split('/')[-1], 'a') as f:\n",
    "                    f.write('{} {} {} {} {}\\n'.format(annotation[0], x, y, w, h))\n",
    "\n",
    "annotation_file = 'data/train/labels'\n",
    "old_img_source = 'data/train/images'\n",
    "dest_path = 'data/train/resized_labl'\n",
    "\n",
    "i = 0\n",
    "for files in os.listdir(annotation_file):\n",
    "    label = annotation_file + '/' + files\n",
    "    label_config(label, old_img_source, dest_path)\n",
    "    i += 1\n",
    "\n",
    "print(i)"
   ]
  },
  {
   "attachments": {},
   "cell_type": "markdown",
   "metadata": {},
   "source": [
    "### Data split into train and validation"
   ]
  },
  {
   "cell_type": "code",
   "execution_count": 3,
   "metadata": {},
   "outputs": [
    {
     "name": "stdout",
     "output_type": "stream",
     "text": [
      "Norway\n",
      "Train Image: 2571\tValidation image: 514\n",
      "United States\n",
      "Train Image: 2818\tValidation image: 563\n",
      "Japan\n",
      "Train Image: 4714\tValidation image: 942\n"
     ]
    }
   ],
   "source": [
    "img = 'data/train/images'\n",
    "label = 'data/train/labels'\n",
    "\n",
    "india_count = 0\n",
    "norway_count = 0\n",
    "us_count = 0\n",
    "japan_count = 0\n",
    "\n",
    "for files in os.listdir(img):\n",
    "    if files.startswith('Norway'):\n",
    "        norway_count += 1\n",
    "    if files.startswith('United_States'):\n",
    "        us_count += 1\n",
    "    if files.startswith('Japan'):\n",
    "        japan_count += 1\n",
    "\n",
    "print(\"Norway\\nTrain Image: {}\\tValidation image: {}\".format(norway_count, int(norway_count - norway_count*0.80)))\n",
    "print(\"United States\\nTrain Image: {}\\tValidation image: {}\".format(us_count, int(us_count - us_count*0.80)))\n",
    "print(\"Japan\\nTrain Image: {}\\tValidation image: {}\".format(japan_count, int(japan_count - japan_count*0.80)))"
   ]
  },
  {
   "cell_type": "code",
   "execution_count": 4,
   "metadata": {},
   "outputs": [
    {
     "data": {
      "image/png": "[encoded data removed]",
      "text/plain": [
       "<Figure size 1000x800 with 1 Axes>"
      ]
     },
     "metadata": {},
     "output_type": "display_data"
    }
   ],
   "source": [
    "name = ('Norway', 'United States', 'Japan')\n",
    "train_value = (norway_count,us_count,japan_count)\n",
    "val_value = (int(norway_count - norway_count*0.85), int(us_count - us_count*0.85), int(japan_count - japan_count*0.85))\n",
    "data = {'Training': train_value,\n",
    "        'Validation': val_value}\n",
    "\n",
    "x = np.arange(len(name))  # the label locations\n",
    "width = 0.25  # the width of the bars\n",
    "multiplier = 0\n",
    "\n",
    "colors = ['#23d420', '#e03607']\n",
    "\n",
    "fig, ax = plt.subplots(figsize= (10,8))\n",
    "for attribute, measurement in data.items():\n",
    "    offset = width * multiplier\n",
    "    rect = ax.bar(x + offset, measurement, width, label=attribute, color=colors[multiplier]) \n",
    "    ax.bar_label(rect, padding=1)\n",
    "    multiplier += 1\n",
    "\n",
    "plt.xlabel('Country Names')\n",
    "plt.ylabel('# of samples')\n",
    "ax.set_xticks(x + width / 2) # added width/2 to set the ticks at the center of the bars\n",
    "ax.set_xticklabels(name) # added the labels\n",
    "# plt.title('Number of validation samples after Splitting.\\nSplitting Ratio is 80:20')\n",
    "plt.legend() # added a legend\n",
    "plt.show()\n"
   ]
  },
  {
   "attachments": {},
   "cell_type": "markdown",
   "metadata": {},
   "source": [
    "Split the dataset into 80:20 ratio"
   ]
  },
  {
   "cell_type": "code",
   "execution_count": 5,
   "metadata": {},
   "outputs": [],
   "source": [
    "src_img = 'data/train/images'\n",
    "dest_img = 'data/validation/images'\n",
    "\n",
    "src_label = 'data/train/labels'\n",
    "dest_label = 'data/validation/labels'\n",
    "\n",
    "jap = int(japan_count * 0.20)\n",
    "nor = int(norway_count * 0.20)\n",
    "us = int(us_count * 0.20)\n",
    "\n",
    "files = os.listdir(src_img)\n",
    "\n",
    "\n",
    "# Move the Japan files to validation\n",
    "selected_files = random.sample([f for f in files if f.startswith('Japan')], jap)\n",
    "for f in selected_files:\n",
    "    img_file = os.path.join(src_img, f)\n",
    "    label_file = os.path.join(src_label, f.replace('.jpg', '.txt'))\n",
    "    shutil.move(img_file, dest_img)\n",
    "    shutil.move(label_file, dest_label)\n",
    "\n",
    "\n",
    "# Move the Norway files to validation\n",
    "selected_files = random.sample([f for f in files if f.startswith('Norway')], nor)\n",
    "for file in selected_files:\n",
    "    img_file = os.path.join(src_img, file)\n",
    "    label_file = os.path.join(src_label, file.replace('.jpg', '.txt'))\n",
    "    shutil.move(img_file, dest_img)\n",
    "    shutil.move(label_file, dest_label)\n",
    "\n",
    "\n",
    "# Move the United States files to validation\n",
    "selected_files = random.sample([f for f in files if f.startswith('United_States')], us)\n",
    "for file in selected_files:\n",
    "    img_file = os.path.join(src_img, file)\n",
    "    label_file = os.path.join(src_label, file.replace('.jpg', '.txt'))\n",
    "    shutil.move(img_file, dest_img)\n",
    "    shutil.move(label_file, dest_label)"
   ]
  }
 ],
 "metadata": {
  "kernelspec": {
   "display_name": "base",
   "language": "python",
   "name": "python3"
  },
  "language_info": {
   "codemirror_mode": {
    "name": "ipython",
    "version": 3
   },
   "file_extension": ".py",
   "mimetype": "text/x-python",
   "name": "python",
   "nbconvert_exporter": "python",
   "pygments_lexer": "ipython3",
   "version": "3.9.13"
  },
  "orig_nbformat": 4
 },
 "nbformat": 4,
 "nbformat_minor": 2
}
